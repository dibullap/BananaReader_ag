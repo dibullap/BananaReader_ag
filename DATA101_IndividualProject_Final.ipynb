{
  "cells": [
    {
      "cell_type": "markdown",
      "metadata": {
        "id": "view-in-github",
        "colab_type": "text"
      },
      "source": [
        "<a href=\"https://colab.research.google.com/github/dibullap/BananaReader_ag/blob/main/DATA101_IndividualProject_Final.ipynb\" target=\"_parent\"><img src=\"https://colab.research.google.com/assets/colab-badge.svg\" alt=\"Open In Colab\"/></a>"
      ]
    },
    {
      "cell_type": "markdown",
      "id": "fbf1a365",
      "metadata": {
        "id": "fbf1a365"
      },
      "source": [
        "#**Cooperation between child civilians and guerrilla**\n",
        "  *Pamela van den Enden*\n"
      ]
    },
    {
      "cell_type": "markdown",
      "id": "5e6c3ce7",
      "metadata": {
        "id": "5e6c3ce7"
      },
      "source": [
        "The central aim of this project was to study the rational prospect for cooperation in post-conflict situations; cooperation, that is, between select groups affected by a conflict, whether as perpetrators or victims. I wanted to explore this theme in the specific post-conflictual context of Colombia. \n",
        "\n",
        "Question\n",
        "\n",
        "Will young civilians cooperate with former insurgent youth?\n",
        "\n",
        "Hypothesis\n",
        "\n",
        "In the aftermath of an extended period of conflict between insurgents and state forces, we would not expect civilian children affected by the insurgency to cooperate with insurgent youth under political (and economic) conditions that operate according to game-theoretic frameworks. \n"
      ]
    },
    {
      "cell_type": "markdown",
      "source": [
        "##Librerías \n",
        "Se importan las librerías necesarias para el desarrollo del análisis "
      ],
      "metadata": {
        "id": "BxsniJqJROOZ"
      },
      "id": "BxsniJqJROOZ"
    },
    {
      "cell_type": "code",
      "execution_count": 111,
      "id": "e79fe6ca",
      "metadata": {
        "id": "e79fe6ca"
      },
      "outputs": [],
      "source": [
        "#Libraries\n",
        "import pandas as pd\n",
        "import numpy as np\n",
        "import datetime\n",
        "\n",
        "import matplotlib.pyplot as plt\n",
        "import seaborn as sns\n",
        "from mpl_toolkits.mplot3d import axes3d\n",
        "\n",
        "\n",
        "#For Chi2\n",
        "import scipy.stats as stats\n",
        "\n",
        "\n",
        "import matplotlib.ticker as ticker\n",
        "from sklearn.model_selection import GridSearchCV, train_test_split\n",
        "from sklearn.ensemble import RandomForestClassifier\n",
        "from sklearn.metrics import accuracy_score\n",
        "\n",
        "from sklearn.compose import ColumnTransformer\n",
        "from sklearn.preprocessing import OneHotEncoder\n",
        "from sklearn.model_selection import cross_val_score\n",
        "from sklearn.model_selection import RepeatedKFold\n",
        "from sklearn.model_selection import ParameterGrid\n",
        "from sklearn.inspection import permutation_importance\n",
        "import multiprocessing\n",
        "\n",
        "from sklearn import metrics\n",
        "from sklearn.metrics import roc_curve\n",
        "%matplotlib inline\n"
      ]
    },
    {
      "cell_type": "markdown",
      "source": [
        "##Carga de datos\n",
        "Los datos capturados en un archivo excel se cargan dentro de un `dataframe` de `pandas y se muestran las primeras diez entradas de la tabla.`"
      ],
      "metadata": {
        "id": "ZoSs9vBoUTvW"
      },
      "id": "ZoSs9vBoUTvW"
    },
    {
      "cell_type": "code",
      "execution_count": 112,
      "id": "0f70cd44",
      "metadata": {
        "id": "0f70cd44",
        "outputId": "ace52c48-344a-4ed0-a3d5-5cc7c4880724",
        "colab": {
          "base_uri": "https://localhost:8080/"
        }
      },
      "outputs": [
        {
          "output_type": "stream",
          "name": "stdout",
          "text": [
            "[0 1]\n"
          ]
        }
      ],
      "source": [
        "#Import Data\n",
        "df = pd.read_excel('Push_Pull_OnlyCompleteGames.xlsx')\n",
        "print(df['Op_Gender_F_!_M_0'].unique())"
      ]
    },
    {
      "cell_type": "markdown",
      "id": "a0815441",
      "metadata": {
        "id": "a0815441"
      },
      "source": [
        "Data Pre-Processing"
      ]
    },
    {
      "cell_type": "markdown",
      "source": [
        "Ahora se debe verificar si hay algún valor ```NaN``` en el ```dataframe``` y si es el caso, eliminar dichos registros"
      ],
      "metadata": {
        "id": "fGTbtK-mTGAN"
      },
      "id": "fGTbtK-mTGAN"
    },
    {
      "cell_type": "code",
      "source": [
        "df.isnull().values.any()\n"
      ],
      "metadata": {
        "colab": {
          "base_uri": "https://localhost:8080/"
        },
        "id": "PIOdsAziTdC8",
        "outputId": "bf4d52a6-3452-46e7-d1ea-3e56fd4144af"
      },
      "id": "PIOdsAziTdC8",
      "execution_count": 113,
      "outputs": [
        {
          "output_type": "execute_result",
          "data": {
            "text/plain": [
              "False"
            ]
          },
          "metadata": {},
          "execution_count": 113
        }
      ]
    },
    {
      "cell_type": "code",
      "source": [
        "df.isnull().any()\n",
        "\n"
      ],
      "metadata": {
        "colab": {
          "base_uri": "https://localhost:8080/"
        },
        "id": "Q2hvERC9TptE",
        "outputId": "89bd1458-85c0-46a1-c48d-81f01f445209"
      },
      "id": "Q2hvERC9TptE",
      "execution_count": 114,
      "outputs": [
        {
          "output_type": "execute_result",
          "data": {
            "text/plain": [
              "Id_Pa                      False\n",
              "Game                       False\n",
              "Round                      False\n",
              "Pa_Action_Push_1_Pull_0    False\n",
              "Op_Action_Push_1_Pull_0    False\n",
              "Op_Time                    False\n",
              "Group_Op_Civ_1_guer_0      False\n",
              "Pa_Gender_F_1_M_0          False\n",
              "Pa_Age                     False\n",
              "Pa_School                  False\n",
              "Op_Name_Naugh_0_Nice_1     False\n",
              "Op_Gender_F_!_M_0          False\n",
              "Op_Age                     False\n",
              "Date_Game                  False\n",
              "Date_Round                 False\n",
              "dtype: bool"
            ]
          },
          "metadata": {},
          "execution_count": 114
        }
      ]
    },
    {
      "cell_type": "markdown",
      "source": [
        "No hay ningún registro ```NaN``` \n",
        "\n",
        "Se estandarizan los tipos de datos de cada columna para una mejor operabilidad, practicidad y eficiencia.\n"
      ],
      "metadata": {
        "id": "8gGiS214rh2M"
      },
      "id": "8gGiS214rh2M"
    },
    {
      "cell_type": "code",
      "source": [
        "#Change Data Types \n",
        "df = df.astype({\"Id_Pa\": str, \"Game\": int, \n",
        "                \"Round\": int, \n",
        "                \"Pa_Action_Push_1_Pull_0\":int, \n",
        "                \"Op_Action_Push_1_Pull_0\":int, \n",
        "                \"Group_Op_Civ_1_guer_0\":int, \n",
        "                \"Op_Age\":int, \n",
        "                \"Pa_Gender_F_1_M_0\":int, \n",
        "                \"Pa_School\":str, \n",
        "                \"Op_Name_Naugh_0_Nice_1\":int, \n",
        "                \"Op_Gender_F_!_M_0\":int, \n",
        "                \"Date_Game\":str, \n",
        "                \"Date_Round\":str})\n"
      ],
      "metadata": {
        "id": "B7It4ccgHpnY"
      },
      "id": "B7It4ccgHpnY",
      "execution_count": 115,
      "outputs": []
    },
    {
      "cell_type": "markdown",
      "source": [
        "Se debe asegurar que se contengan únicamente datos de juegos complétamente realizados, por lo que serán eliminados los registros asociados a partidas inconculusas"
      ],
      "metadata": {
        "id": "IarGdoLuIGPb"
      },
      "id": "IarGdoLuIGPb"
    },
    {
      "cell_type": "code",
      "source": [
        "df = df.sort_values(['Id_Pa', 'Game', 'Round'])"
      ],
      "metadata": {
        "id": "R_YMsX6TxfBu"
      },
      "id": "R_YMsX6TxfBu",
      "execution_count": 116,
      "outputs": []
    },
    {
      "cell_type": "markdown",
      "source": [
        "Es lógico afirmar que si cada participante jugó 4 juegos de 25 rondas cada uno, su id debe aparecer exactamente 100 veces, de modo que serán eliminados los usuarios que no cuenten con esta característica pues o bien no completaron todos los juegos, o no jugaron todas las rondas."
      ],
      "metadata": {
        "id": "9EPKz3GTBlRA"
      },
      "id": "9EPKz3GTBlRA"
    },
    {
      "cell_type": "code",
      "source": [
        "sv = df['Id_Pa'].value_counts(sort = False)"
      ],
      "metadata": {
        "id": "oqxhM--yUxor"
      },
      "id": "oqxhM--yUxor",
      "execution_count": 117,
      "outputs": []
    },
    {
      "cell_type": "code",
      "source": [
        "dr = []\n",
        "for i in range(sv.shape[0]):\n",
        "  if sv.iloc[i] != 100:\n",
        "    dr = dr + [i + 1]\n",
        "print(dr)"
      ],
      "metadata": {
        "colab": {
          "base_uri": "https://localhost:8080/"
        },
        "id": "r5s6oiKlCJKi",
        "outputId": "5471cab2-9831-44de-f65d-0f12a62e5d59"
      },
      "id": "r5s6oiKlCJKi",
      "execution_count": 118,
      "outputs": [
        {
          "output_type": "stream",
          "name": "stdout",
          "text": [
            "[75]\n"
          ]
        }
      ]
    },
    {
      "cell_type": "markdown",
      "source": [
        "El usuario número 75 será eliminado de los registros ya que no completó los juegos."
      ],
      "metadata": {
        "id": "B0VAjBY7C_Gv"
      },
      "id": "B0VAjBY7C_Gv"
    },
    {
      "cell_type": "code",
      "execution_count": 119,
      "id": "fdfc57ee",
      "metadata": {
        "id": "fdfc57ee"
      },
      "outputs": [],
      "source": [
        "df.drop(df[df['Id_Pa'] == 75].index, inplace = True)\n"
      ]
    },
    {
      "cell_type": "markdown",
      "source": [
        "Hay 182 participantes"
      ],
      "metadata": {
        "id": "qOVlqSFIX1Pq"
      },
      "id": "qOVlqSFIX1Pq"
    },
    {
      "cell_type": "code",
      "execution_count": 120,
      "id": "4291a2c6",
      "metadata": {
        "id": "4291a2c6",
        "outputId": "4381c066-19b5-4582-99ec-d337fd52b8c5",
        "colab": {
          "base_uri": "https://localhost:8080/"
        }
      },
      "outputs": [
        {
          "output_type": "execute_result",
          "data": {
            "text/plain": [
              "182"
            ]
          },
          "metadata": {},
          "execution_count": 120
        }
      ],
      "source": [
        "#Number of Distinct Participants\n",
        "len(set(df.Id_Pa)) # 180 distinct participants "
      ]
    },
    {
      "cell_type": "markdown",
      "id": "a253f510",
      "metadata": {
        "id": "a253f510"
      },
      "source": [
        "Data Visualization"
      ]
    },
    {
      "cell_type": "code",
      "execution_count": 121,
      "id": "466a9a78",
      "metadata": {
        "id": "466a9a78",
        "outputId": "8b034630-c232-45f8-c58c-3bce33a45c69",
        "colab": {
          "base_uri": "https://localhost:8080/",
          "height": 424
        }
      },
      "outputs": [
        {
          "output_type": "execute_result",
          "data": {
            "text/plain": [
              "<matplotlib.legend.Legend at 0x7fb4ee21d940>"
            ]
          },
          "metadata": {},
          "execution_count": 121
        },
        {
          "output_type": "display_data",
          "data": {
            "text/plain": [
              "<Figure size 864x432 with 2 Axes>"
            ],
            "image/png": "[encoded data removed]"
          },
          "metadata": {
            "needs_background": "light"
          }
        }
      ],
      "source": [
        "#How balanced is the target variable (Participant's Cooperation)?\n",
        "\n",
        "g, (ax1, ax2) = plt.subplots(1,2, sharex=True, figsize=(12,6))\n",
        "ax1.set_title('Countplot Cooperation', fontsize= 12)\n",
        "ax2.set_title('Countplot Cooperation Output by Opponent Group', fontsize=14)\n",
        "\n",
        "\n",
        "#Subplot 1 - Overall more cooperation than defection \n",
        "sns.countplot(ax=ax1, x='Pa_Action_Push_1_Pull_0', data = df, palette = 'PuRd') \n",
        "plt.xlabel('Participant Cooperation', fontsize=12)\n",
        "plt.ylabel('Count', fontsize=10)\n",
        "plt.xticks([0, 1], ['Defect', 'Cooperate'], fontsize=10)\n",
        "\n",
        "\n",
        "#Subplot 2 - \n",
        "sns.countplot(ax=ax2, x='Pa_Action_Push_1_Pull_0', hue= 'Group_Op_Civ_1_guer_0',\n",
        "              data = df, palette = 'PuRd') \n",
        "plt.xlabel('Participant Cooperation', fontsize=10)\n",
        "plt.ylabel('Count', fontsize=10)\n",
        "plt.xticks([0, 1], ['Defect', 'Cooperate'], fontsize=10)\n",
        "plt.legend([\"Guerrilla\", \"Civilian\"])\n"
      ]
    },
    {
      "cell_type": "markdown",
      "source": [
        "Dadas las gráficas anteriores es posible observar que:\n",
        "- Globalmente la mayoría de participantes tiende a *no cooperar*.\n",
        "- Teniendo en consideración el rol del oponente, hay *más cooperación* hacia los *Exguerrilleros*.\n",
        "\n",
        "A continuación, se dan valores numéricos exactos de cooperación total y cooperación relacionada al rol del oponente."
      ],
      "metadata": {
        "id": "95oAO5zQkuif"
      },
      "id": "95oAO5zQkuif"
    },
    {
      "cell_type": "code",
      "execution_count": 122,
      "id": "83b50cb4",
      "metadata": {
        "id": "83b50cb4",
        "outputId": "04c26fe1-79bb-441e-91b7-35ae928f2c85",
        "colab": {
          "base_uri": "https://localhost:8080/",
          "height": 179
        }
      },
      "outputs": [
        {
          "output_type": "stream",
          "name": "stdout",
          "text": [
            "Total Defection 12840\n",
            "Total Cooperation 5359\n"
          ]
        },
        {
          "output_type": "execute_result",
          "data": {
            "text/plain": [
              "Pa_Action_Push_1_Pull_0     0     1\n",
              "Group_Op_Civ_1_guer_0              \n",
              "0                        6042  3057\n",
              "1                        6798  2302"
            ],
            "text/html": [
              "\n",
              "  <div id=\"df-4b114bda-2635-4e9e-8f03-8d9c1e51e765\">\n",
              "    <div class=\"colab-df-container\">\n",
              "      <div>\n",
              "<style scoped>\n",
              "    .dataframe tbody tr th:only-of-type {\n",
              "        vertical-align: middle;\n",
              "    }\n",
              "\n",
              "    .dataframe tbody tr th {\n",
              "        vertical-align: top;\n",
              "    }\n",
              "\n",
              "    .dataframe thead th {\n",
              "        text-align: right;\n",
              "    }\n",
              "</style>\n",
              "<table border=\"1\" class=\"dataframe\">\n",
              "  <thead>\n",
              "    <tr style=\"text-align: right;\">\n",
              "      <th>Pa_Action_Push_1_Pull_0</th>\n",
              "      <th>0</th>\n",
              "      <th>1</th>\n",
              "    </tr>\n",
              "    <tr>\n",
              "      <th>Group_Op_Civ_1_guer_0</th>\n",
              "      <th></th>\n",
              "      <th></th>\n",
              "    </tr>\n",
              "  </thead>\n",
              "  <tbody>\n",
              "    <tr>\n",
              "      <th>0</th>\n",
              "      <td>6042</td>\n",
              "      <td>3057</td>\n",
              "    </tr>\n",
              "    <tr>\n",
              "      <th>1</th>\n",
              "      <td>6798</td>\n",
              "      <td>2302</td>\n",
              "    </tr>\n",
              "  </tbody>\n",
              "</table>\n",
              "</div>\n",
              "      <button class=\"colab-df-convert\" onclick=\"convertToInteractive('df-4b114bda-2635-4e9e-8f03-8d9c1e51e765')\"\n",
              "              title=\"Convert this dataframe to an interactive table.\"\n",
              "              style=\"display:none;\">\n",
              "        \n",
              "  <svg xmlns=\"http://www.w3.org/2000/svg\" height=\"24px\"viewBox=\"0 0 24 24\"\n",
              "       width=\"24px\">\n",
              "    <path d=\"M0 0h24v24H0V0z\" fill=\"none\"/>\n",
              "    <path d=\"M18.56 5.44l.94 2.06.94-2.06 2.06-.94-2.06-.94-.94-2.06-.94 2.06-2.06.94zm-11 1L8.5 8.5l.94-2.06 2.06-.94-2.06-.94L8.5 2.5l-.94 2.06-2.06.94zm10 10l.94 2.06.94-2.06 2.06-.94-2.06-.94-.94-2.06-.94 2.06-2.06.94z\"/><path d=\"M17.41 7.96l-1.37-1.37c-.4-.4-.92-.59-1.43-.59-.52 0-1.04.2-1.43.59L10.3 9.45l-7.72 7.72c-.78.78-.78 2.05 0 2.83L4 21.41c.39.39.9.59 1.41.59.51 0 1.02-.2 1.41-.59l7.78-7.78 2.81-2.81c.8-.78.8-2.07 0-2.86zM5.41 20L4 18.59l7.72-7.72 1.47 1.35L5.41 20z\"/>\n",
              "  </svg>\n",
              "      </button>\n",
              "      \n",
              "  <style>\n",
              "    .colab-df-container {\n",
              "      display:flex;\n",
              "      flex-wrap:wrap;\n",
              "      gap: 12px;\n",
              "    }\n",
              "\n",
              "    .colab-df-convert {\n",
              "      background-color: #E8F0FE;\n",
              "      border: none;\n",
              "      border-radius: 50%;\n",
              "      cursor: pointer;\n",
              "      display: none;\n",
              "      fill: #1967D2;\n",
              "      height: 32px;\n",
              "      padding: 0 0 0 0;\n",
              "      width: 32px;\n",
              "    }\n",
              "\n",
              "    .colab-df-convert:hover {\n",
              "      background-color: #E2EBFA;\n",
              "      box-shadow: 0px 1px 2px rgba(60, 64, 67, 0.3), 0px 1px 3px 1px rgba(60, 64, 67, 0.15);\n",
              "      fill: #174EA6;\n",
              "    }\n",
              "\n",
              "    [theme=dark] .colab-df-convert {\n",
              "      background-color: #3B4455;\n",
              "      fill: #D2E3FC;\n",
              "    }\n",
              "\n",
              "    [theme=dark] .colab-df-convert:hover {\n",
              "      background-color: #434B5C;\n",
              "      box-shadow: 0px 1px 3px 1px rgba(0, 0, 0, 0.15);\n",
              "      filter: drop-shadow(0px 1px 2px rgba(0, 0, 0, 0.3));\n",
              "      fill: #FFFFFF;\n",
              "    }\n",
              "  </style>\n",
              "\n",
              "      <script>\n",
              "        const buttonEl =\n",
              "          document.querySelector('#df-4b114bda-2635-4e9e-8f03-8d9c1e51e765 button.colab-df-convert');\n",
              "        buttonEl.style.display =\n",
              "          google.colab.kernel.accessAllowed ? 'block' : 'none';\n",
              "\n",
              "        async function convertToInteractive(key) {\n",
              "          const element = document.querySelector('#df-4b114bda-2635-4e9e-8f03-8d9c1e51e765');\n",
              "          const dataTable =\n",
              "            await google.colab.kernel.invokeFunction('convertToInteractive',\n",
              "                                                     [key], {});\n",
              "          if (!dataTable) return;\n",
              "\n",
              "          const docLinkHtml = 'Like what you see? Visit the ' +\n",
              "            '<a target=\"_blank\" href=https://colab.research.google.com/notebooks/data_table.ipynb>data table notebook</a>'\n",
              "            + ' to learn more about interactive tables.';\n",
              "          element.innerHTML = '';\n",
              "          dataTable['output_type'] = 'display_data';\n",
              "          await google.colab.output.renderOutput(dataTable, element);\n",
              "          const docLink = document.createElement('div');\n",
              "          docLink.innerHTML = docLinkHtml;\n",
              "          element.appendChild(docLink);\n",
              "        }\n",
              "      </script>\n",
              "    </div>\n",
              "  </div>\n",
              "  "
            ]
          },
          "metadata": {},
          "execution_count": 122
        }
      ],
      "source": [
        "#Actual Counts: \n",
        "\n",
        "#How cooperative where participants overall?\n",
        "coop_count = df['Pa_Action_Push_1_Pull_0'].value_counts()\n",
        "print(\"Total Defection \" + str(coop_count[0]))\n",
        "print(\"Total Cooperation \" + str(coop_count[1]))\n",
        "\n",
        "#How cooperative are civilians with Guerrilla? \n",
        "crosstab = pd.crosstab(df[\"Group_Op_Civ_1_guer_0\"], df[\"Pa_Action_Push_1_Pull_0\"])\n",
        "crosstab #Cooperate more with Guerrillas, Defect More with Civilians?\n"
      ]
    },
    {
      "cell_type": "markdown",
      "source": [
        "Al parecer los niños sienten cierta empatía hacia aquellos que fueron miembros de la guerrilla, por lo que es más probable que tiendan a cooperar con estos, sin embargo, la tendencia está claramente marcada a la no cooperación.\n",
        "\n",
        "¿Cual es el comportamiento de la cooperación a través del tiempo?"
      ],
      "metadata": {
        "id": "23RRgW1zwuyr"
      },
      "id": "23RRgW1zwuyr"
    },
    {
      "cell_type": "code",
      "execution_count": 123,
      "id": "6aa96b89",
      "metadata": {
        "id": "6aa96b89"
      },
      "outputs": [],
      "source": [
        "#How does cooperative behavior evolve with time (Number of Rounds)?\n",
        "\n",
        "df2 = df.copy() #New df to use target variables as Ints\n",
        "df2 = df2.astype({\"Id_Pa\": str, \"Game\": int, \"Round\": int, \"Pa_Action_Push_1_Pull_0\":int, \"Op_Action_Push_1_Pull_0\":int, \"Group_Op_Civ_1_guer_0\":int, \"Op_Age\":int, \"Pa_Gender_F_1_M_0\":str, \"Pa_School\":str, \"Op_Name_Naugh_0_Nice_1\":str, \"Op_Gender_F_!_M_0\":str, \"Date_Game\":str, \"Date_Round\":str})\n",
        "td = {}\n",
        "for i in range(1,26):\n",
        "    coop = sum(df2[df2.Round==i].Pa_Action_Push_1_Pull_0)\n",
        "    td[i] = coop\n",
        "\n",
        "\n",
        "\n",
        "\n"
      ]
    },
    {
      "cell_type": "code",
      "source": [
        "\n",
        "x, y = (list(td.keys()), list(td.values()))\n",
        "plt.Figure(figsize=(5, 2.7), constrained_layout=True, linewidth=5, edgecolor='black')\n",
        "plt.plot(x, y, linewidth=5)\n",
        "plt.xlabel('Round Number')\n",
        "plt.ylabel('Number of Cooperative Moves')\n",
        "plt.title(\"Change of Cooperative Moves Across Rounds\")\n",
        "plt.show()"
      ],
      "metadata": {
        "colab": {
          "base_uri": "https://localhost:8080/",
          "height": 295
        },
        "id": "cpSJi0m_ympN",
        "outputId": "421b72fc-67d7-482f-c30a-57741471138d"
      },
      "id": "cpSJi0m_ympN",
      "execution_count": 124,
      "outputs": [
        {
          "output_type": "display_data",
          "data": {
            "text/plain": [
              "<Figure size 432x288 with 1 Axes>"
            ],
            "image/png": "[encoded data removed]"
          },
          "metadata": {
            "needs_background": "light"
          }
        }
      ]
    },
    {
      "cell_type": "markdown",
      "source": [
        "La cooperación inicia elevada pero tiende a descender de forma oscilante conforme avanza el juego.\n",
        "\n",
        "Para ver esto más a profundidad, se verá la variación a través de cada ronda de la cooperación en relacion al rol tomado por la máquina."
      ],
      "metadata": {
        "id": "PEojmXKjNV72"
      },
      "id": "PEojmXKjNV72"
    },
    {
      "cell_type": "code",
      "source": [
        "log_x = np.log(x)\n",
        "log_y = np.log(y)\n",
        "\n",
        "c = np.polyfit(log_x, y, 1)\n",
        "print(c)"
      ],
      "metadata": {
        "colab": {
          "base_uri": "https://localhost:8080/"
        },
        "id": "QnRrlpxsPHS9",
        "outputId": "d7ad3e11-9395-4af3-f088-27d62bbf8324"
      },
      "id": "QnRrlpxsPHS9",
      "execution_count": 125,
      "outputs": [
        {
          "output_type": "stream",
          "name": "stdout",
          "text": [
            "[-25.33925035 273.15071495]\n"
          ]
        }
      ]
    },
    {
      "cell_type": "code",
      "source": [
        "k = c[0] * log_x + c[1]\n",
        "\n",
        "fig = plt.figure()\n",
        "ax = fig.subplots()\n",
        "ax.plot(x, k, linewidth=4, label=\"Ajuste\")\n",
        "ax.scatter(x, y)\n"
      ],
      "metadata": {
        "colab": {
          "base_uri": "https://localhost:8080/",
          "height": 283
        },
        "id": "iOR6pS-RWVpw",
        "outputId": "6024d167-2fe4-4b0d-8852-5b2c6f26a8e5"
      },
      "id": "iOR6pS-RWVpw",
      "execution_count": 126,
      "outputs": [
        {
          "output_type": "execute_result",
          "data": {
            "text/plain": [
              "<matplotlib.collections.PathCollection at 0x7fb4ee1dcee0>"
            ]
          },
          "metadata": {},
          "execution_count": 126
        },
        {
          "output_type": "display_data",
          "data": {
            "text/plain": [
              "<Figure size 432x288 with 1 Axes>"
            ],
            "image/png": "[encoded data removed]"
          },
          "metadata": {
            "needs_background": "light"
          }
        }
      ]
    },
    {
      "cell_type": "markdown",
      "source": [
        "Aunque el ajuste no es perfecto (Considerando que la naturaleza de la cooperación puede depender de más variables fuera del tiempo) se puede aproximar la cantidad total de cooperación a una ronda como:\n",
        "\n",
        "$$c(r) \\approx -25.33\\cdot \\log (r) + 273.15 $$\n",
        "Donde $r$ es la ronda actual."
      ],
      "metadata": {
        "id": "YV2lS_GSjCp9"
      },
      "id": "YV2lS_GSjCp9"
    },
    {
      "cell_type": "code",
      "execution_count": 127,
      "id": "67e100db",
      "metadata": {
        "id": "67e100db",
        "outputId": "4ecdc083-c887-4a91-cf7a-57be328bf083",
        "colab": {
          "base_uri": "https://localhost:8080/",
          "height": 295
        }
      },
      "outputs": [
        {
          "output_type": "display_data",
          "data": {
            "text/plain": [
              "<Figure size 432x288 with 1 Axes>"
            ],
            "image/png": "[encoded data removed]"
          },
          "metadata": {
            "needs_background": "light"
          }
        }
      ],
      "source": [
        "#How does cooperative behavior evolve with time (Across ALL games, ALL rounds)?\n",
        "#Does cooperative behavior vary with respect to the opponent identity?\n",
        "'''\n",
        "def f(row):\n",
        "    if row.Game==1: return row.Round\n",
        "    if row.Game==2: return row.Round + 25\n",
        "    if row.Game==3: return row.Round + 50\n",
        "    if row.Game==4: return row.Round + 75\n",
        "  '''\n",
        "def f(row):\n",
        "  return row.Round + 25 * (row.Game - 1)\n",
        "\n",
        "df2['Cumulative_Round'] = df2.apply(lambda row: f(row), axis=1)\n",
        "\n",
        "\n",
        "td = {}\n",
        "\n",
        "for i in range(1,100):\n",
        "    coop_1 = sum(df2[(df2.Cumulative_Round==i) & (df2.Group_Op_Civ_1_guer_0 == 1)].Pa_Action_Push_1_Pull_0)\n",
        "    coop_0 = sum(df2[(df2.Cumulative_Round==i) & (df2.Group_Op_Civ_1_guer_0 == 0)].Pa_Action_Push_1_Pull_0)\n",
        "    td[i] = [coop_1, coop_0]\n",
        "    \n",
        "\n",
        "plt.vlines(x = [25, 50, 75], ymin = 0, ymax = 50,\n",
        "           colors = 'black', alpha=0.25)\n",
        "    \n",
        "plt.plot(list(td.keys()), list(td.values()), linewidth=3)\n",
        "plt.xlabel('Round Number')\n",
        "plt.ylabel('Cooperative Moves')\n",
        "plt.legend([\"Guerrilla Opponent\", \"Civilian Opponent\"])\n",
        "plt.title(\"Change of Cooperative Moves Across ALL Rounds by Opponent Group\")\n",
        "plt.show()"
      ]
    },
    {
      "cell_type": "markdown",
      "source": [
        "En ambos casos el juego se desarrolla de forma similar pero con la enunciada cooperación sesgada hacia los exguerrilleross"
      ],
      "metadata": {
        "id": "MWq1t0O8UZ91"
      },
      "id": "MWq1t0O8UZ91"
    },
    {
      "cell_type": "markdown",
      "source": [
        "También se puede observar qué tanto empatan las acciones del participante y su oponente."
      ],
      "metadata": {
        "id": "fxQi-w9jZ3tm"
      },
      "id": "fxQi-w9jZ3tm"
    },
    {
      "cell_type": "code",
      "execution_count": 128,
      "id": "c850a344",
      "metadata": {
        "id": "c850a344",
        "outputId": "0c5c1cfc-0143-4890-f4df-e031d06f6ab2",
        "colab": {
          "base_uri": "https://localhost:8080/",
          "height": 313
        }
      },
      "outputs": [
        {
          "output_type": "execute_result",
          "data": {
            "text/plain": [
              "<matplotlib.legend.Legend at 0x7fb4eb37f850>"
            ]
          },
          "metadata": {},
          "execution_count": 128
        },
        {
          "output_type": "display_data",
          "data": {
            "text/plain": [
              "<Figure size 432x288 with 1 Axes>"
            ],
            "image/png": "[encoded data removed]"
          },
          "metadata": {
            "needs_background": "light"
          }
        }
      ],
      "source": [
        "#How matched are participant's and opponent's actions?\n",
        "\n",
        "df2['mirror'] = df2.Pa_Action_Push_1_Pull_0 == df2.Op_Action_Push_1_Pull_0\n",
        "df2['mirror'] = df2.mirror.astype(int)\n",
        "\n",
        "plt.plot(list(df2[df2.Game==1].groupby(['Game', 'Round']).mean().mirror), linewidth=3, label='1')\n",
        "# plt.plot(list(df2[df2.Game==2].groupby(['Game', 'Round']).mean().mirror), label='2')\n",
        "# plt.plot(list(df2[df2.Game==3].groupby(['Game', 'Round']).mean().mirror), label='3')\n",
        "plt.plot(list(df2[df2.Game==4].groupby(['Game', 'Round']).mean().mirror),linewidth=3, label='4')\n",
        "# plt.plot(list(df2[df2.Game==1].groupby(['Game', 'Round']).var().mirror))\n",
        "\n",
        "plt.xlabel('Round Number')\n",
        "plt.ylabel('Average \"Mirrored\" Moves')\n",
        "plt.title('Average Mirrored Moves (for participants over a given round, in game x)')\n",
        "plt.legend([\"Game 1\", \"Game 4\"])\n"
      ]
    },
    {
      "cell_type": "markdown",
      "source": [
        "Entre el primer y cuarto juego, los empates son similares. aunque la primera tiene un pico más elevado. mientras que en el cuarto es un poco más regular.\n",
        "\n",
        "Se puede visualizar el promedio de movimientos espejo por parte de los participantes en determinado juego (en este caso el primero)."
      ],
      "metadata": {
        "id": "LyDX3aKiaI_C"
      },
      "id": "LyDX3aKiaI_C"
    },
    {
      "cell_type": "code",
      "execution_count": 129,
      "id": "f6c76039",
      "metadata": {
        "id": "f6c76039",
        "outputId": "86514ec8-d61b-4866-f07b-762ee6f96ebc",
        "colab": {
          "base_uri": "https://localhost:8080/",
          "height": 313
        }
      },
      "outputs": [
        {
          "output_type": "execute_result",
          "data": {
            "text/plain": [
              "Text(0.5, 1.0, 'Average Mirrored Moves (for participants over a given round, in game 1)')"
            ]
          },
          "metadata": {},
          "execution_count": 129
        },
        {
          "output_type": "display_data",
          "data": {
            "text/plain": [
              "<Figure size 432x288 with 1 Axes>"
            ],
            "image/png": "[encoded data removed]"
          },
          "metadata": {
            "needs_background": "light"
          }
        }
      ],
      "source": [
        "#Action Mirroring Continued *NEED TO FIGURE THIS OUT!\n",
        "\n",
        "g = 1 #Whats going on in Round10? It is showing either a DIP or BUMP in all games\n",
        "\n",
        "df2['mirror'] = df2.Pa_Action_Push_1_Pull_0 == df2.Op_Action_Push_1_Pull_0\n",
        "df2['mirror'] = df2.mirror.astype(int)\n",
        "\n",
        "# plt.plot(list(df[df.Game==g].groupby(['Game', 'Round']).mean().mirror))\n",
        "plt.plot(list(df2[df2.Game==g].groupby(['Game', 'Round']).mean().mirror), linewidth = 3)\n",
        "\n",
        "plt.xlabel('Round Number')\n",
        "plt.ylabel('Average \"Mirrored\" Moves')\n",
        "plt.title('Average Mirrored Moves (for participants over a given round, in game {g})'.format(g=g))"
      ]
    },
    {
      "cell_type": "markdown",
      "id": "7e103998",
      "metadata": {
        "id": "7e103998"
      },
      "source": [
        "En este juego es bastante regular, aunque en una ronda en particular este suceso es infrecuente.\n",
        "\n",
        "##Data Analysis\n",
        "###*Chi-Square Analysis*\n",
        "\n",
        "¿La cooperación depende de si el oponente es exguerrillero?\n",
        "Dados los datos recopilados y preprocesados, es posible hacer un análisis de Ji cuadrado para evaluar si la hipótesis es cierta."
      ]
    },
    {
      "cell_type": "code",
      "execution_count": 130,
      "id": "503e4a20",
      "metadata": {
        "scrolled": true,
        "id": "503e4a20",
        "outputId": "a6c0615f-7bd8-4ba6-bd00-5318681ba894",
        "colab": {
          "base_uri": "https://localhost:8080/",
          "height": 143
        }
      },
      "outputs": [
        {
          "output_type": "execute_result",
          "data": {
            "text/plain": [
              "Pa_Action_Push_1_Pull_0     0     1\n",
              "Group_Op_Civ_1_guer_0              \n",
              "0                        6042  3057\n",
              "1                        6798  2302"
            ],
            "text/html": [
              "\n",
              "  <div id=\"df-c9f475f0-ba33-45df-9147-2eaa53cb8825\">\n",
              "    <div class=\"colab-df-container\">\n",
              "      <div>\n",
              "<style scoped>\n",
              "    .dataframe tbody tr th:only-of-type {\n",
              "        vertical-align: middle;\n",
              "    }\n",
              "\n",
              "    .dataframe tbody tr th {\n",
              "        vertical-align: top;\n",
              "    }\n",
              "\n",
              "    .dataframe thead th {\n",
              "        text-align: right;\n",
              "    }\n",
              "</style>\n",
              "<table border=\"1\" class=\"dataframe\">\n",
              "  <thead>\n",
              "    <tr style=\"text-align: right;\">\n",
              "      <th>Pa_Action_Push_1_Pull_0</th>\n",
              "      <th>0</th>\n",
              "      <th>1</th>\n",
              "    </tr>\n",
              "    <tr>\n",
              "      <th>Group_Op_Civ_1_guer_0</th>\n",
              "      <th></th>\n",
              "      <th></th>\n",
              "    </tr>\n",
              "  </thead>\n",
              "  <tbody>\n",
              "    <tr>\n",
              "      <th>0</th>\n",
              "      <td>6042</td>\n",
              "      <td>3057</td>\n",
              "    </tr>\n",
              "    <tr>\n",
              "      <th>1</th>\n",
              "      <td>6798</td>\n",
              "      <td>2302</td>\n",
              "    </tr>\n",
              "  </tbody>\n",
              "</table>\n",
              "</div>\n",
              "      <button class=\"colab-df-convert\" onclick=\"convertToInteractive('df-c9f475f0-ba33-45df-9147-2eaa53cb8825')\"\n",
              "              title=\"Convert this dataframe to an interactive table.\"\n",
              "              style=\"display:none;\">\n",
              "        \n",
              "  <svg xmlns=\"http://www.w3.org/2000/svg\" height=\"24px\"viewBox=\"0 0 24 24\"\n",
              "       width=\"24px\">\n",
              "    <path d=\"M0 0h24v24H0V0z\" fill=\"none\"/>\n",
              "    <path d=\"M18.56 5.44l.94 2.06.94-2.06 2.06-.94-2.06-.94-.94-2.06-.94 2.06-2.06.94zm-11 1L8.5 8.5l.94-2.06 2.06-.94-2.06-.94L8.5 2.5l-.94 2.06-2.06.94zm10 10l.94 2.06.94-2.06 2.06-.94-2.06-.94-.94-2.06-.94 2.06-2.06.94z\"/><path d=\"M17.41 7.96l-1.37-1.37c-.4-.4-.92-.59-1.43-.59-.52 0-1.04.2-1.43.59L10.3 9.45l-7.72 7.72c-.78.78-.78 2.05 0 2.83L4 21.41c.39.39.9.59 1.41.59.51 0 1.02-.2 1.41-.59l7.78-7.78 2.81-2.81c.8-.78.8-2.07 0-2.86zM5.41 20L4 18.59l7.72-7.72 1.47 1.35L5.41 20z\"/>\n",
              "  </svg>\n",
              "      </button>\n",
              "      \n",
              "  <style>\n",
              "    .colab-df-container {\n",
              "      display:flex;\n",
              "      flex-wrap:wrap;\n",
              "      gap: 12px;\n",
              "    }\n",
              "\n",
              "    .colab-df-convert {\n",
              "      background-color: #E8F0FE;\n",
              "      border: none;\n",
              "      border-radius: 50%;\n",
              "      cursor: pointer;\n",
              "      display: none;\n",
              "      fill: #1967D2;\n",
              "      height: 32px;\n",
              "      padding: 0 0 0 0;\n",
              "      width: 32px;\n",
              "    }\n",
              "\n",
              "    .colab-df-convert:hover {\n",
              "      background-color: #E2EBFA;\n",
              "      box-shadow: 0px 1px 2px rgba(60, 64, 67, 0.3), 0px 1px 3px 1px rgba(60, 64, 67, 0.15);\n",
              "      fill: #174EA6;\n",
              "    }\n",
              "\n",
              "    [theme=dark] .colab-df-convert {\n",
              "      background-color: #3B4455;\n",
              "      fill: #D2E3FC;\n",
              "    }\n",
              "\n",
              "    [theme=dark] .colab-df-convert:hover {\n",
              "      background-color: #434B5C;\n",
              "      box-shadow: 0px 1px 3px 1px rgba(0, 0, 0, 0.15);\n",
              "      filter: drop-shadow(0px 1px 2px rgba(0, 0, 0, 0.3));\n",
              "      fill: #FFFFFF;\n",
              "    }\n",
              "  </style>\n",
              "\n",
              "      <script>\n",
              "        const buttonEl =\n",
              "          document.querySelector('#df-c9f475f0-ba33-45df-9147-2eaa53cb8825 button.colab-df-convert');\n",
              "        buttonEl.style.display =\n",
              "          google.colab.kernel.accessAllowed ? 'block' : 'none';\n",
              "\n",
              "        async function convertToInteractive(key) {\n",
              "          const element = document.querySelector('#df-c9f475f0-ba33-45df-9147-2eaa53cb8825');\n",
              "          const dataTable =\n",
              "            await google.colab.kernel.invokeFunction('convertToInteractive',\n",
              "                                                     [key], {});\n",
              "          if (!dataTable) return;\n",
              "\n",
              "          const docLinkHtml = 'Like what you see? Visit the ' +\n",
              "            '<a target=\"_blank\" href=https://colab.research.google.com/notebooks/data_table.ipynb>data table notebook</a>'\n",
              "            + ' to learn more about interactive tables.';\n",
              "          element.innerHTML = '';\n",
              "          dataTable['output_type'] = 'display_data';\n",
              "          await google.colab.output.renderOutput(dataTable, element);\n",
              "          const docLink = document.createElement('div');\n",
              "          docLink.innerHTML = docLinkHtml;\n",
              "          element.appendChild(docLink);\n",
              "        }\n",
              "      </script>\n",
              "    </div>\n",
              "  </div>\n",
              "  "
            ]
          },
          "metadata": {},
          "execution_count": 130
        }
      ],
      "source": [
        "#Does cooperation depend on whether or not the opponent is guerrilla? \n",
        "crosstab"
      ]
    },
    {
      "cell_type": "code",
      "execution_count": 131,
      "id": "e0951fb6",
      "metadata": {
        "id": "e0951fb6",
        "outputId": "311094e0-1685-460a-e18a-5400eafb7a59",
        "colab": {
          "base_uri": "https://localhost:8080/"
        }
      },
      "outputs": [
        {
          "output_type": "execute_result",
          "data": {
            "text/plain": [
              "(150.48062602508236,\n",
              " 1.3611544440704256e-34,\n",
              " 1,\n",
              " array([[6419.64723336, 2679.35276664],\n",
              "        [6420.35276664, 2679.64723336]]))"
            ]
          },
          "metadata": {},
          "execution_count": 131
        }
      ],
      "source": [
        "chi_test = stats.chi2_contingency(crosstab)\n",
        "chi_test #p-value 9.066326423326767e-35  Variables are dependent on each other"
      ]
    },
    {
      "cell_type": "markdown",
      "source": [
        "Considerando que la estadística $150.48 > 1.36\\times 10^{-34}$ es posible afirmar que hay una dependencia entre el rol tomado por el oponente y la decisión del participante."
      ],
      "metadata": {
        "id": "OLdBJV9pkH0R"
      },
      "id": "OLdBJV9pkH0R"
    },
    {
      "cell_type": "markdown",
      "id": "af641882",
      "metadata": {
        "id": "af641882"
      },
      "source": [
        "###*Using ML classifiers*\n",
        "\n",
        "\n",
        "Se utilizará un modelo de aprendizaje de máquina basado en árboles de decisión para predecir la cooperación de un participante hipotético, esto con el fin de obtener claridad sobre qué es lo que influye en esta.\n",
        "\n",
        "####Preparación de los datos:\n",
        "En primer lugar, se depuran los parámetros que no serán utilizados para la clasificación, así, se tomará una muestra aleatoria de los datos para entrenar el modelo y otra para probarlo. Inicialmente serán eliminados datos innecesarios como el colegio del participante y la fecha del juego, además del id del particpante, que, dado que es diferente para cada individuo, se interpreta como ruido."
      ]
    },
    {
      "cell_type": "code",
      "source": [
        "def prepare(df, features, pre):\n",
        "  x = df.drop(features, axis=1)\n",
        "  y = df[pre]\n",
        "  t = train_test_split(x, y, test_size=0.35, random_state=16, stratify= y)\n",
        "  return tuple([x, y] + list(t))"
      ],
      "metadata": {
        "id": "_NVCzBPrB-1B"
      },
      "id": "_NVCzBPrB-1B",
      "execution_count": 132,
      "outputs": []
    },
    {
      "cell_type": "code",
      "source": [
        "features = ['Id_Pa', 'Pa_Action_Push_1_Pull_0',\n",
        "                'Pa_School', 'Date_Round', 'Date_Game']\n",
        "pred = 'Pa_Action_Push_1_Pull_0'\n",
        "x, y, x_train, x_test, y_train, y_test =  prepare(df, features, pred)"
      ],
      "metadata": {
        "id": "vBt0Ge-53qdY"
      },
      "id": "vBt0Ge-53qdY",
      "execution_count": 133,
      "outputs": []
    },
    {
      "cell_type": "code",
      "source": [
        "x['Op_Time'].value_counts(sort = False)"
      ],
      "metadata": {
        "colab": {
          "base_uri": "https://localhost:8080/"
        },
        "id": "E8YVdY6Dxg2Y",
        "outputId": "a5277c8e-11d5-4dc9-c4f8-8eb2cc5d6449"
      },
      "id": "E8YVdY6Dxg2Y",
      "execution_count": 134,
      "outputs": [
        {
          "output_type": "execute_result",
          "data": {
            "text/plain": [
              "2.11    155\n",
              "2.84    178\n",
              "2.13    208\n",
              "2.29    212\n",
              "2.67    200\n",
              "       ... \n",
              "2.55    159\n",
              "2.89    130\n",
              "2.44    214\n",
              "2.00     96\n",
              "2.07    165\n",
              "Name: Op_Time, Length: 101, dtype: int64"
            ]
          },
          "metadata": {},
          "execution_count": 134
        }
      ]
    },
    {
      "cell_type": "code",
      "source": [
        "fig = plt.figure()\n",
        "ax = fig.add_subplot(projection='3d')\n",
        "ax.scatter(x['Pa_Age'], x['Op_Age'], x['Group_Op_Civ_1_guer_0'], \n",
        "           c=x[['Op_Action_Push_1_Pull_0']])\n",
        "ax.set_xlabel('Edad del participante')\n",
        "ax.set_ylabel('Edad del oponente')\n",
        "ax.set_zlabel('Grupo del oponente')\n",
        "ax.set_title(\"Representación de los datos omitiendo el Género de los participantes\")\n",
        "\n",
        "plt.show()"
      ],
      "metadata": {
        "colab": {
          "base_uri": "https://localhost:8080/",
          "height": 248
        },
        "id": "eURiwUVhRB7J",
        "outputId": "460e0ab4-3066-43a2-969d-cffd6d7819d9"
      },
      "id": "eURiwUVhRB7J",
      "execution_count": 135,
      "outputs": [
        {
          "output_type": "display_data",
          "data": {
            "text/plain": [
              "<Figure size 432x288 with 1 Axes>"
            ],
            "image/png": "[encoded data removed]"
          },
          "metadata": {
            "needs_background": "light"
          }
        }
      ]
    },
    {
      "cell_type": "markdown",
      "source": [
        "Los puntos claros indican que el oponente cooperó con el participante, mientras que los mmás oscuros muestran lo contrario.\n",
        "Es necesario anotar que no parece haber una separación trivial en los datos, ya que, aunque se encuentran en regiones definidas, tienen una alta dimensionalidad que para calidad de los análisis, y pese a que reducirla mejora el desempeño de muchos modelos, en este caso es irreductible. Se probará entonces con modelos lineales y no lineales dada esta escasa claridad.\n",
        "\n",
        "Se crea un método que permitirá evaluar el desempeño de cada modelo creado, constará de la presentación de sus errores de entrenamiento y prueba y el área bajo su respectiva **Curva ROC** que mide cuán buena es la clasificación hecha por el modelo basándose en la proporción de verdaderos positivos y negativos."
      ],
      "metadata": {
        "id": "iiSpv05v6Cyi"
      },
      "id": "iiSpv05v6Cyi"
    },
    {
      "cell_type": "code",
      "source": [
        "def accuracy(model, x_train, y_train, x_test, y_test):\n",
        "  y_pred_proba = model.predict_proba(x_test)[::,1]\n",
        "  fpr, tpr, _ = roc_curve(y_test,  y_pred_proba)\n",
        "\n",
        "  auc = metrics.roc_auc_score(y_test, y_pred_proba)\n",
        "\n",
        "  print('Error en entrenamiento: {}'.format(1-model.score(x_train, y_train)))\n",
        "  print('Error en prueba: {}'.format(1-model.score(x_test, y_test)))\n",
        "  print(\"Area under roc curve:\", auc)\n",
        "\n",
        "  plt.plot(fpr,tpr,label=\"data 1, auc=\"+str(auc), linewidth = 6)\n",
        "  plt.legend(loc=4)\n",
        "  plt.show()"
      ],
      "metadata": {
        "id": "QLUMnkiB5Ejh"
      },
      "id": "QLUMnkiB5Ejh",
      "execution_count": 136,
      "outputs": []
    },
    {
      "cell_type": "markdown",
      "source": [
        "Es posible considerar las edades del participante y el oponente como categóritcas, por lo que se hará una transformación en el conjunto de datos, donde cada edad será representada por una columna."
      ],
      "metadata": {
        "id": "QxSSu9tg59Fk"
      },
      "id": "QxSSu9tg59Fk"
    },
    {
      "cell_type": "code",
      "source": [
        "cat_cols = ['Pa_Age', 'Op_Age']\n",
        "\n"
      ],
      "metadata": {
        "id": "GOqtGCnBP4Ft"
      },
      "id": "GOqtGCnBP4Ft",
      "execution_count": 137,
      "outputs": []
    },
    {
      "cell_type": "code",
      "source": [
        "def categorify(cat, x_train, x_test):\n",
        "  preprocessor = ColumnTransformer(\n",
        "                    [('onehot', OneHotEncoder(handle_unknown='ignore'), cat_cols)],\n",
        "                    remainder='passthrough'\n",
        "               )\n",
        "  x_train_prep = preprocessor.fit_transform(x_train)\n",
        "  x_test_prep  = preprocessor.transform(x_test)\n",
        "  return (x_train_prep, x_test_prep)"
      ],
      "metadata": {
        "id": "1MvUkoLW8Njx"
      },
      "id": "1MvUkoLW8Njx",
      "execution_count": 138,
      "outputs": []
    },
    {
      "cell_type": "code",
      "source": [
        "x_train_prep, x_test_prep = categorify(cat_cols, x_train, x_test)"
      ],
      "metadata": {
        "id": "XQzZrOBf7rBu"
      },
      "id": "XQzZrOBf7rBu",
      "execution_count": 139,
      "outputs": []
    },
    {
      "cell_type": "markdown",
      "source": [
        "####Random Forest\n",
        "Un modelo útil a la hora de enfrentar problemas de clasificación, su fortaleza está en prevenir el sobreajuste. Con el fin de obtener el mejor modelo posible, se utiliza **Validación cruzada** para determinar el número de árboles y la cantidad apropiada de características a usar."
      ],
      "metadata": {
        "id": "JXYE8dsCcU28"
      },
      "id": "JXYE8dsCcU28"
    },
    {
      "cell_type": "code",
      "source": [
        "param_grid = {'n_estimators': [150],\n",
        "              'max_features': [5, 7, 9],\n",
        "              'max_depth'   : [None, 3, 10, 20],\n",
        "              'criterion'   : ['gini', 'entropy']\n",
        "             }"
      ],
      "metadata": {
        "id": "6l3jev3-pbD8"
      },
      "id": "6l3jev3-pbD8",
      "execution_count": 140,
      "outputs": []
    },
    {
      "cell_type": "code",
      "source": [
        "rf = GridSearchCV(RandomForestClassifier(), param_grid=param_grid, verbose=1, n_jobs=-1, cv=5)"
      ],
      "metadata": {
        "id": "zgkOpuGda3Nl"
      },
      "id": "zgkOpuGda3Nl",
      "execution_count": 141,
      "outputs": []
    },
    {
      "cell_type": "code",
      "source": [
        "rf = GridSearchCV(\n",
        "        estimator  = RandomForestClassifier(random_state = 123),\n",
        "        param_grid = param_grid,\n",
        "        scoring    = 'accuracy',\n",
        "        n_jobs     = multiprocessing.cpu_count() - 1,\n",
        "        cv         = RepeatedKFold(n_splits=5, n_repeats=3, random_state=123), \n",
        "        refit      = True,\n",
        "        verbose    = 0,\n",
        "        return_train_score = True\n",
        "       )"
      ],
      "metadata": {
        "id": "sYi1xfv82_Ri"
      },
      "id": "sYi1xfv82_Ri",
      "execution_count": 142,
      "outputs": []
    },
    {
      "cell_type": "code",
      "source": [
        "rf.fit(x_train_prep, y_train)"
      ],
      "metadata": {
        "colab": {
          "base_uri": "https://localhost:8080/"
        },
        "id": "0D9NK1X6bQP5",
        "outputId": "93bc7799-8822-4af7-95be-f0fd3cdb8477"
      },
      "id": "0D9NK1X6bQP5",
      "execution_count": 86,
      "outputs": [
        {
          "output_type": "execute_result",
          "data": {
            "text/plain": [
              "GridSearchCV(cv=RepeatedKFold(n_repeats=3, n_splits=5, random_state=123),\n",
              "             estimator=RandomForestClassifier(random_state=123), n_jobs=1,\n",
              "             param_grid={'criterion': ['gini', 'entropy'],\n",
              "                         'max_depth': [None, 3, 10, 20],\n",
              "                         'max_features': [5, 7, 9], 'n_estimators': [150]},\n",
              "             return_train_score=True, scoring='accuracy')"
            ]
          },
          "metadata": {},
          "execution_count": 86
        }
      ]
    },
    {
      "cell_type": "code",
      "source": [
        "accuracy(rf, x_train_prep, y_train, x_test_prep, y_test)"
      ],
      "metadata": {
        "colab": {
          "base_uri": "https://localhost:8080/",
          "height": 319
        },
        "id": "ggL8_Ao9bcPl",
        "outputId": "ab8fe8e3-65ab-453d-d410-64adae52547f"
      },
      "id": "ggL8_Ao9bcPl",
      "execution_count": 87,
      "outputs": [
        {
          "output_type": "stream",
          "name": "stdout",
          "text": [
            "Error en entrenamiento: 0.22613914954772174\n",
            "Error en prueba: 0.2759811616954474\n",
            "Area under roc curve: 0.6900192319918621\n"
          ]
        },
        {
          "output_type": "display_data",
          "data": {
            "text/plain": [
              "<Figure size 432x288 with 1 Axes>"
            ],
            "image/png": "[encoded data removed]"
          },
          "metadata": {
            "needs_background": "light"
          }
        }
      ]
    },
    {
      "cell_type": "markdown",
      "source": [
        "Con el fin de mejorar el desempeño del modelo, se dejará de lado la columna del tiempo tomado por el oponente. ya que este fué generado aleatoriamente y funciona únicamente para simular que se juega contra un humano."
      ],
      "metadata": {
        "id": "p12F_teXZNPg"
      },
      "id": "p12F_teXZNPg"
    },
    {
      "cell_type": "code",
      "source": [
        "features = ['Id_Pa', 'Op_Time', 'Pa_Action_Push_1_Pull_0',\n",
        "                'Pa_School', 'Date_Round', 'Date_Game']\n",
        "pred = 'Pa_Action_Push_1_Pull_0'\n",
        "x, y, x_train, x_test, y_train, y_test =  prepare(df, features, pred)"
      ],
      "metadata": {
        "id": "ooXkcQLhcJjT"
      },
      "id": "ooXkcQLhcJjT",
      "execution_count": 143,
      "outputs": []
    },
    {
      "cell_type": "code",
      "source": [
        "x_train_prep, x_test_prep = categorify(cat_cols, x_train, x_test)"
      ],
      "metadata": {
        "id": "UZZasjqTwXGw"
      },
      "id": "UZZasjqTwXGw",
      "execution_count": 144,
      "outputs": []
    },
    {
      "cell_type": "code",
      "source": [
        "rf.fit(x_train_prep, y_train)"
      ],
      "metadata": {
        "colab": {
          "base_uri": "https://localhost:8080/"
        },
        "id": "_rcNbDhhn5ZE",
        "outputId": "9c1939e7-d638-4e2c-c3d0-857f2151a399"
      },
      "id": "_rcNbDhhn5ZE",
      "execution_count": 145,
      "outputs": [
        {
          "output_type": "execute_result",
          "data": {
            "text/plain": [
              "GridSearchCV(cv=RepeatedKFold(n_repeats=3, n_splits=5, random_state=123),\n",
              "             estimator=RandomForestClassifier(random_state=123), n_jobs=1,\n",
              "             param_grid={'criterion': ['gini', 'entropy'],\n",
              "                         'max_depth': [None, 3, 10, 20],\n",
              "                         'max_features': [5, 7, 9], 'n_estimators': [150]},\n",
              "             return_train_score=True, scoring='accuracy')"
            ]
          },
          "metadata": {},
          "execution_count": 145
        }
      ]
    },
    {
      "cell_type": "code",
      "source": [
        "accuracy(rf, x_train_prep, y_train, x_test_prep, y_test)"
      ],
      "metadata": {
        "colab": {
          "base_uri": "https://localhost:8080/",
          "height": 319
        },
        "id": "6L7OtwQsoRyB",
        "outputId": "ea1e18a7-d618-4cb7-9d70-35393dd2d343"
      },
      "id": "6L7OtwQsoRyB",
      "execution_count": 146,
      "outputs": [
        {
          "output_type": "stream",
          "name": "stdout",
          "text": [
            "Error en entrenamiento: 0.22952066954095862\n",
            "Error en prueba: 0.2751962323390895\n",
            "Area under roc curve: 0.69339046470869\n"
          ]
        },
        {
          "output_type": "display_data",
          "data": {
            "text/plain": [
              "<Figure size 432x288 with 1 Axes>"
            ],
            "image/png": "[encoded data removed]"
          },
          "metadata": {
            "needs_background": "light"
          }
        }
      ]
    },
    {
      "cell_type": "markdown",
      "source": [
        "Gracias a la aplicación de **One-hot encoding** sobre las columas de edad y la eliminación de características que dan ruido al modelo, se consiguió una precisión del 72.49%.\n",
        "La curva ROC indica que los participantes no tuvieron en cuenta alguna entrategia en particular para desarrollar el juego, conclusión a la que se llega teniendo en cuenta que el área debajo de esta es más cercana a 0.5 que a 1."
      ],
      "metadata": {
        "id": "sbROGC3iy_6n"
      },
      "id": "sbROGC3iy_6n"
    },
    {
      "cell_type": "markdown",
      "source": [
        "###Valor de Shapley\n",
        "Esto dará la facilidad para determinar la importancia de cada variable en la decisión tomada por un modelo, en este caso, se tendrá en cuenta en Random Forest al ser el que tiene mejor desempeño."
      ],
      "metadata": {
        "id": "mZr82ER3r9ef"
      },
      "id": "mZr82ER3r9ef"
    },
    {
      "cell_type": "code",
      "source": [
        "!pip install shap"
      ],
      "metadata": {
        "colab": {
          "base_uri": "https://localhost:8080/"
        },
        "id": "cB0DT1jV38Tm",
        "outputId": "aeedd176-4559-4759-9e8b-88da3be1b217"
      },
      "id": "cB0DT1jV38Tm",
      "execution_count": 147,
      "outputs": [
        {
          "output_type": "stream",
          "name": "stdout",
          "text": [
            "Looking in indexes: https://pypi.org/simple, https://us-python.pkg.dev/colab-wheels/public/simple/\n",
            "Collecting shap\n",
            "  Downloading shap-0.41.0-cp38-cp38-manylinux_2_12_x86_64.manylinux2010_x86_64.whl (575 kB)\n",
            "\u001b[2K     \u001b[90m━━━━━━━━━━━━━━━━━━━━━━━━━━━━━━━━━━━━━━\u001b[0m \u001b[32m575.9/575.9 KB\u001b[0m \u001b[31m28.5 MB/s\u001b[0m eta \u001b[36m0:00:00\u001b[0m\n",
            "\u001b[?25hRequirement already satisfied: pandas in /usr/local/lib/python3.8/dist-packages (from shap) (1.3.5)\n",
            "Requirement already satisfied: scikit-learn in /usr/local/lib/python3.8/dist-packages (from shap) (1.0.2)\n",
            "Requirement already satisfied: numba in /usr/local/lib/python3.8/dist-packages (from shap) (0.56.4)\n",
            "Requirement already satisfied: cloudpickle in /usr/local/lib/python3.8/dist-packages (from shap) (2.2.0)\n",
            "Requirement already satisfied: numpy in /usr/local/lib/python3.8/dist-packages (from shap) (1.21.6)\n",
            "Collecting slicer==0.0.7\n",
            "  Downloading slicer-0.0.7-py3-none-any.whl (14 kB)\n",
            "Requirement already satisfied: scipy in /usr/local/lib/python3.8/dist-packages (from shap) (1.7.3)\n",
            "Requirement already satisfied: tqdm>4.25.0 in /usr/local/lib/python3.8/dist-packages (from shap) (4.64.1)\n",
            "Requirement already satisfied: packaging>20.9 in /usr/local/lib/python3.8/dist-packages (from shap) (21.3)\n",
            "Requirement already satisfied: pyparsing!=3.0.5,>=2.0.2 in /usr/local/lib/python3.8/dist-packages (from packaging>20.9->shap) (3.0.9)\n",
            "Requirement already satisfied: llvmlite<0.40,>=0.39.0dev0 in /usr/local/lib/python3.8/dist-packages (from numba->shap) (0.39.1)\n",
            "Requirement already satisfied: setuptools in /usr/local/lib/python3.8/dist-packages (from numba->shap) (57.4.0)\n",
            "Requirement already satisfied: importlib-metadata in /usr/local/lib/python3.8/dist-packages (from numba->shap) (6.0.0)\n",
            "Requirement already satisfied: pytz>=2017.3 in /usr/local/lib/python3.8/dist-packages (from pandas->shap) (2022.7)\n",
            "Requirement already satisfied: python-dateutil>=2.7.3 in /usr/local/lib/python3.8/dist-packages (from pandas->shap) (2.8.2)\n",
            "Requirement already satisfied: threadpoolctl>=2.0.0 in /usr/local/lib/python3.8/dist-packages (from scikit-learn->shap) (3.1.0)\n",
            "Requirement already satisfied: joblib>=0.11 in /usr/local/lib/python3.8/dist-packages (from scikit-learn->shap) (1.2.0)\n",
            "Requirement already satisfied: six>=1.5 in /usr/local/lib/python3.8/dist-packages (from python-dateutil>=2.7.3->pandas->shap) (1.15.0)\n",
            "Requirement already satisfied: zipp>=0.5 in /usr/local/lib/python3.8/dist-packages (from importlib-metadata->numba->shap) (3.11.0)\n",
            "Installing collected packages: slicer, shap\n",
            "Successfully installed shap-0.41.0 slicer-0.0.7\n"
          ]
        }
      ]
    },
    {
      "cell_type": "code",
      "source": [
        "import xgboost as xgb\n",
        "import shap\n",
        "import seaborn as sns "
      ],
      "metadata": {
        "id": "kbYTro50vomH"
      },
      "id": "kbYTro50vomH",
      "execution_count": 148,
      "outputs": []
    },
    {
      "cell_type": "markdown",
      "source": [
        "Se debe transformar de nuevo el conjunto ```x_train_prep``` en un ```DataFrame``` cuyas columnas tengas título."
      ],
      "metadata": {
        "id": "fcdgGhTn1M52"
      },
      "id": "fcdgGhTn1M52"
    },
    {
      "cell_type": "code",
      "source": [
        "cols = x_train.drop(cat_cols, axis=1).columns\n",
        "encoded_cat = preprocessor.named_transformers_['onehot'].get_feature_names_out(cat_cols)\n",
        "labels = np.concatenate([cols, encoded_cat])\n",
        "\n",
        "x_train_prep = pd.DataFrame(x_train_prep, columns=labels)\n",
        "x_test_prep  = pd.DataFrame(x_test_prep, columns=labels)\n"
      ],
      "metadata": {
        "id": "2MTAxHz81e3o"
      },
      "id": "2MTAxHz81e3o",
      "execution_count": 149,
      "outputs": []
    },
    {
      "cell_type": "code",
      "source": [
        "x_train_prep.info()"
      ],
      "metadata": {
        "colab": {
          "base_uri": "https://localhost:8080/"
        },
        "id": "FMLErXbD5NVP",
        "outputId": "0b96a127-2733-4e88-e816-dfa40ccf7b8d"
      },
      "id": "FMLErXbD5NVP",
      "execution_count": 150,
      "outputs": [
        {
          "output_type": "stream",
          "name": "stdout",
          "text": [
            "<class 'pandas.core.frame.DataFrame'>\n",
            "RangeIndex: 11829 entries, 0 to 11828\n",
            "Data columns (total 18 columns):\n",
            " #   Column                   Non-Null Count  Dtype  \n",
            "---  ------                   --------------  -----  \n",
            " 0   Game                     11829 non-null  float64\n",
            " 1   Round                    11829 non-null  float64\n",
            " 2   Op_Action_Push_1_Pull_0  11829 non-null  float64\n",
            " 3   Group_Op_Civ_1_guer_0    11829 non-null  float64\n",
            " 4   Pa_Gender_F_1_M_0        11829 non-null  float64\n",
            " 5   Op_Name_Naugh_0_Nice_1   11829 non-null  float64\n",
            " 6   Op_Gender_F_!_M_0        11829 non-null  float64\n",
            " 7   Pa_Age_12                11829 non-null  float64\n",
            " 8   Pa_Age_13                11829 non-null  float64\n",
            " 9   Pa_Age_14                11829 non-null  float64\n",
            " 10  Pa_Age_15                11829 non-null  float64\n",
            " 11  Pa_Age_16                11829 non-null  float64\n",
            " 12  Pa_Age_17                11829 non-null  float64\n",
            " 13  Pa_Age_18                11829 non-null  float64\n",
            " 14  Op_Age_10                11829 non-null  float64\n",
            " 15  Op_Age_11                11829 non-null  float64\n",
            " 16  Op_Age_12                11829 non-null  float64\n",
            " 17  Op_Age_13                11829 non-null  float64\n",
            "dtypes: float64(18)\n",
            "memory usage: 1.6 MB\n"
          ]
        }
      ]
    },
    {
      "cell_type": "markdown",
      "source": [
        "Se extraen los parámetros obtenidos en la validación cruzada para crear un modelo concreto de Random Forest, luego se entrena con los datos destinados para tal fin."
      ],
      "metadata": {
        "id": "vtPEb1LfJ1nl"
      },
      "id": "vtPEb1LfJ1nl"
    },
    {
      "cell_type": "code",
      "source": [
        "rf.best_params_"
      ],
      "metadata": {
        "colab": {
          "base_uri": "https://localhost:8080/"
        },
        "id": "RfsyPvRRH5do",
        "outputId": "556e8d0f-9785-46e8-9751-c5ea027f2abe"
      },
      "id": "RfsyPvRRH5do",
      "execution_count": 151,
      "outputs": [
        {
          "output_type": "execute_result",
          "data": {
            "text/plain": [
              "{'criterion': 'gini', 'max_depth': 10, 'max_features': 5, 'n_estimators': 150}"
            ]
          },
          "metadata": {},
          "execution_count": 151
        }
      ]
    },
    {
      "cell_type": "code",
      "source": [
        "rf = RandomForestClassifier(n_estimators=150, max_features=5, max_depth=10, criterion='gini')\n",
        "rf.fit(x_train_prep, y_train)"
      ],
      "metadata": {
        "colab": {
          "base_uri": "https://localhost:8080/"
        },
        "id": "q0lLrl2qJBvb",
        "outputId": "ce6e9431-5deb-488a-9c3c-40af84dcadf7"
      },
      "id": "q0lLrl2qJBvb",
      "execution_count": 158,
      "outputs": [
        {
          "output_type": "execute_result",
          "data": {
            "text/plain": [
              "RandomForestClassifier(max_depth=10, max_features=5, n_estimators=150)"
            ]
          },
          "metadata": {},
          "execution_count": 158
        }
      ]
    },
    {
      "cell_type": "markdown",
      "source": [
        "Se utiliza un ```TreeExplainer``` ya que es el que mejor se ajusta a este tipo de modelo."
      ],
      "metadata": {
        "id": "h8jDSs6bKMRr"
      },
      "id": "h8jDSs6bKMRr"
    },
    {
      "cell_type": "code",
      "source": [
        "explainer = shap.TreeExplainer(rf, data= x_train_prep)"
      ],
      "metadata": {
        "id": "XF6z7yi40rj6"
      },
      "id": "XF6z7yi40rj6",
      "execution_count": 160,
      "outputs": []
    },
    {
      "cell_type": "code",
      "source": [
        "from scipy.special import softmax\n",
        "\n",
        "def print_feature_importances_shap_values(shap_values, features):\n",
        "    '''\n",
        "    Prints the feature importances based on SHAP values in an ordered way\n",
        "    shap_values -> The SHAP values calculated from a shap.Explainer object\n",
        "    features -> The name of the features, on the order presented to the explainer\n",
        "    '''\n",
        "    # Calculates the feature importance (mean absolute shap value) for each feature\n",
        "    importances = []\n",
        "    for i in range(shap_values.values.shape[1]):\n",
        "        importances.append(np.mean(np.abs(shap_values.values[:, i])))\n",
        "    # Calculates the normalized version\n",
        "    importances_norm = softmax(importances)\n",
        "    # Organize the importances and columns in a dictionary\n",
        "    feature_importances = {fea: imp for imp, fea in zip(importances, features)}\n",
        "    feature_importances_norm = {fea: imp for imp, fea in zip(importances_norm, features)}\n",
        "    # Sorts the dictionary\n",
        "    feature_importances = {k: v for k, v in sorted(feature_importances.items(), key=lambda item: item[1], reverse = True)}\n",
        "    feature_importances_norm= {k: v for k, v in sorted(feature_importances_norm.items(), key=lambda item: item[1], reverse = True)}\n",
        "    # Prints the feature importances\n",
        "    for k, v in feature_importances.items():\n",
        "        print(f\"{k} -> {v:.4f} (softmax = {feature_importances_norm[k]:.4f})\")"
      ],
      "metadata": {
        "id": "O8tGUqDvu1wV"
      },
      "id": "O8tGUqDvu1wV",
      "execution_count": 161,
      "outputs": []
    },
    {
      "cell_type": "code",
      "source": [
        "sv = explainer.shap_values(x_train_prep)"
      ],
      "metadata": {
        "colab": {
          "base_uri": "https://localhost:8080/"
        },
        "id": "iiALzQOaE2Z1",
        "outputId": "c2586876-53ed-4d85-b853-70e3b2f52644"
      },
      "id": "iiALzQOaE2Z1",
      "execution_count": 162,
      "outputs": [
        {
          "output_type": "stream",
          "name": "stderr",
          "text": [
            "100%|===================| 23654/23658 [15:14<00:00]       "
          ]
        }
      ]
    },
    {
      "cell_type": "code",
      "source": [
        "sV = explainer(x_train_prep)"
      ],
      "metadata": {
        "colab": {
          "base_uri": "https://localhost:8080/"
        },
        "id": "1rhqt2Mt8D19",
        "outputId": "1ea83946-97a0-40b7-f6f5-a1757aaf66e5"
      },
      "id": "1rhqt2Mt8D19",
      "execution_count": 164,
      "outputs": [
        {
          "output_type": "stream",
          "name": "stderr",
          "text": [
            "100%|===================| 23656/23658 [15:20<00:00]       "
          ]
        }
      ]
    },
    {
      "cell_type": "code",
      "source": [
        "print_feature_importances_shap_values(sV, x_test.columns)"
      ],
      "metadata": {
        "colab": {
          "base_uri": "https://localhost:8080/"
        },
        "id": "mQ2uOPPK8Mdh",
        "outputId": "445d6936-f3bd-49a3-d0df-d1f3b8440f8b"
      },
      "id": "mQ2uOPPK8Mdh",
      "execution_count": 165,
      "outputs": [
        {
          "output_type": "stream",
          "name": "stdout",
          "text": [
            "Round -> 0.0275 (softmax = 0.0563)\n",
            "Pa_Age -> 0.0191 (softmax = 0.0558)\n",
            "Group_Op_Civ_1_guer_0 -> 0.0123 (softmax = 0.0554)\n",
            "Pa_Gender_F_1_M_0 -> 0.0067 (softmax = 0.0551)\n",
            "Game -> 0.0059 (softmax = 0.0551)\n",
            "Op_Age -> 0.0049 (softmax = 0.0550)\n",
            "Op_Action_Push_1_Pull_0 -> 0.0047 (softmax = 0.0550)\n",
            "Op_Gender_F_!_M_0 -> 0.0039 (softmax = 0.0550)\n",
            "Op_Name_Naugh_0_Nice_1 -> 0.0033 (softmax = 0.0549)\n"
          ]
        }
      ]
    },
    {
      "cell_type": "code",
      "source": [
        "shap.summary_plot(sv, x_train_prep)"
      ],
      "metadata": {
        "colab": {
          "base_uri": "https://localhost:8080/",
          "height": 636
        },
        "id": "3wEd0e5YP6tN",
        "outputId": "82b2c910-1984-46b6-864e-93cc46b505cb"
      },
      "id": "3wEd0e5YP6tN",
      "execution_count": 167,
      "outputs": [
        {
          "output_type": "display_data",
          "data": {
            "text/plain": [
              "<Figure size 576x626.4 with 1 Axes>"
            ],
            "image/png": "[encoded data removed]"
          },
          "metadata": {
            "needs_background": "light"
          }
        }
      ]
    },
    {
      "cell_type": "markdown",
      "source": [
        "Para ambas clases, las variables tienen influencias similares, dadas las frecuencias de los datos, se evidencia que esta es mayor al no cooperar (barras rojas).\n",
        "\n",
        " Estos resultados concuerdan con los observados en el análisis previo, donde se observaba una relación importante entre el número de ronda y la cooperación del participante, pues, se muestra como la variable con mayor importancia a la hora de tomar una decisión. En orden de importancia, las variables se tienen en cuenta del siguiente modo:\n",
        "\n",
        "- Ronda\n",
        "- Edades de los participantes \n",
        "- Grupo al que pertenece el oponente\n",
        "- Género del participante\n",
        "- Juego\n",
        "- Edad del oponente\n",
        "- Acción del oponente\n",
        "- Género del oponente\n",
        "- Op_Name_naugh\n",
        "\n",
        "Es interesante anotar que las acciones del oponente no insiden de forma significativa en la cooperación del participante, pero que al mismo tiempo, la edad y el género de este sean más importantes de lo que parecen. El rol del oponente juega un papel importante, pero contrario a la hipótesis, no es lo fundamental."
      ],
      "metadata": {
        "id": "E6_RHwRHJP27"
      },
      "id": "E6_RHwRHJP27"
    },
    {
      "cell_type": "markdown",
      "source": [
        "##Consideraciones Finales\n",
        "\n",
        "Ahora que se comprende de una mejor manera la influencia de cada variable en la decisión de cooperación de un participante, se pueden ver con claridad ciertas relaciones"
      ],
      "metadata": {
        "id": "bj4Xyuu-J6_G"
      },
      "id": "bj4Xyuu-J6_G"
    },
    {
      "cell_type": "markdown",
      "source": [
        "###Relación entre género y cooperación \n",
        "A continuación, se muestra la relación del género de los participantes con la cooperación"
      ],
      "metadata": {
        "id": "V40gm8MEKU93"
      },
      "id": "V40gm8MEKU93"
    },
    {
      "cell_type": "code",
      "source": [
        "coop_count = df['Pa_Action_Push_1_Pull_0'].value_counts()\n",
        "print(\"Total Defection \" + str(coop_count[0]))\n",
        "print(\"Total Cooperation \" + str(coop_count[1]))\n",
        "\n",
        "crosstab = pd.crosstab(df[\"Pa_Gender_F_1_M_0\"], df[\"Pa_Action_Push_1_Pull_0\"])\n",
        "crosstab #Cooperate more with Guerrillas, Defect More with Civilians?\n"
      ],
      "metadata": {
        "colab": {
          "base_uri": "https://localhost:8080/",
          "height": 179
        },
        "id": "TYsM1MSQbFYY",
        "outputId": "f78071b9-3ede-4296-f362-ab2b1eff2289"
      },
      "id": "TYsM1MSQbFYY",
      "execution_count": 168,
      "outputs": [
        {
          "output_type": "stream",
          "name": "stdout",
          "text": [
            "Total Defection 12840\n",
            "Total Cooperation 5359\n"
          ]
        },
        {
          "output_type": "execute_result",
          "data": {
            "text/plain": [
              "Pa_Action_Push_1_Pull_0     0     1\n",
              "Pa_Gender_F_1_M_0                  \n",
              "0                        7445  2554\n",
              "1                        5395  2805"
            ],
            "text/html": [
              "\n",
              "  <div id=\"df-ff5099b6-6a34-4a7b-8289-a24d1f88f959\">\n",
              "    <div class=\"colab-df-container\">\n",
              "      <div>\n",
              "<style scoped>\n",
              "    .dataframe tbody tr th:only-of-type {\n",
              "        vertical-align: middle;\n",
              "    }\n",
              "\n",
              "    .dataframe tbody tr th {\n",
              "        vertical-align: top;\n",
              "    }\n",
              "\n",
              "    .dataframe thead th {\n",
              "        text-align: right;\n",
              "    }\n",
              "</style>\n",
              "<table border=\"1\" class=\"dataframe\">\n",
              "  <thead>\n",
              "    <tr style=\"text-align: right;\">\n",
              "      <th>Pa_Action_Push_1_Pull_0</th>\n",
              "      <th>0</th>\n",
              "      <th>1</th>\n",
              "    </tr>\n",
              "    <tr>\n",
              "      <th>Pa_Gender_F_1_M_0</th>\n",
              "      <th></th>\n",
              "      <th></th>\n",
              "    </tr>\n",
              "  </thead>\n",
              "  <tbody>\n",
              "    <tr>\n",
              "      <th>0</th>\n",
              "      <td>7445</td>\n",
              "      <td>2554</td>\n",
              "    </tr>\n",
              "    <tr>\n",
              "      <th>1</th>\n",
              "      <td>5395</td>\n",
              "      <td>2805</td>\n",
              "    </tr>\n",
              "  </tbody>\n",
              "</table>\n",
              "</div>\n",
              "      <button class=\"colab-df-convert\" onclick=\"convertToInteractive('df-ff5099b6-6a34-4a7b-8289-a24d1f88f959')\"\n",
              "              title=\"Convert this dataframe to an interactive table.\"\n",
              "              style=\"display:none;\">\n",
              "        \n",
              "  <svg xmlns=\"http://www.w3.org/2000/svg\" height=\"24px\"viewBox=\"0 0 24 24\"\n",
              "       width=\"24px\">\n",
              "    <path d=\"M0 0h24v24H0V0z\" fill=\"none\"/>\n",
              "    <path d=\"M18.56 5.44l.94 2.06.94-2.06 2.06-.94-2.06-.94-.94-2.06-.94 2.06-2.06.94zm-11 1L8.5 8.5l.94-2.06 2.06-.94-2.06-.94L8.5 2.5l-.94 2.06-2.06.94zm10 10l.94 2.06.94-2.06 2.06-.94-2.06-.94-.94-2.06-.94 2.06-2.06.94z\"/><path d=\"M17.41 7.96l-1.37-1.37c-.4-.4-.92-.59-1.43-.59-.52 0-1.04.2-1.43.59L10.3 9.45l-7.72 7.72c-.78.78-.78 2.05 0 2.83L4 21.41c.39.39.9.59 1.41.59.51 0 1.02-.2 1.41-.59l7.78-7.78 2.81-2.81c.8-.78.8-2.07 0-2.86zM5.41 20L4 18.59l7.72-7.72 1.47 1.35L5.41 20z\"/>\n",
              "  </svg>\n",
              "      </button>\n",
              "      \n",
              "  <style>\n",
              "    .colab-df-container {\n",
              "      display:flex;\n",
              "      flex-wrap:wrap;\n",
              "      gap: 12px;\n",
              "    }\n",
              "\n",
              "    .colab-df-convert {\n",
              "      background-color: #E8F0FE;\n",
              "      border: none;\n",
              "      border-radius: 50%;\n",
              "      cursor: pointer;\n",
              "      display: none;\n",
              "      fill: #1967D2;\n",
              "      height: 32px;\n",
              "      padding: 0 0 0 0;\n",
              "      width: 32px;\n",
              "    }\n",
              "\n",
              "    .colab-df-convert:hover {\n",
              "      background-color: #E2EBFA;\n",
              "      box-shadow: 0px 1px 2px rgba(60, 64, 67, 0.3), 0px 1px 3px 1px rgba(60, 64, 67, 0.15);\n",
              "      fill: #174EA6;\n",
              "    }\n",
              "\n",
              "    [theme=dark] .colab-df-convert {\n",
              "      background-color: #3B4455;\n",
              "      fill: #D2E3FC;\n",
              "    }\n",
              "\n",
              "    [theme=dark] .colab-df-convert:hover {\n",
              "      background-color: #434B5C;\n",
              "      box-shadow: 0px 1px 3px 1px rgba(0, 0, 0, 0.15);\n",
              "      filter: drop-shadow(0px 1px 2px rgba(0, 0, 0, 0.3));\n",
              "      fill: #FFFFFF;\n",
              "    }\n",
              "  </style>\n",
              "\n",
              "      <script>\n",
              "        const buttonEl =\n",
              "          document.querySelector('#df-ff5099b6-6a34-4a7b-8289-a24d1f88f959 button.colab-df-convert');\n",
              "        buttonEl.style.display =\n",
              "          google.colab.kernel.accessAllowed ? 'block' : 'none';\n",
              "\n",
              "        async function convertToInteractive(key) {\n",
              "          const element = document.querySelector('#df-ff5099b6-6a34-4a7b-8289-a24d1f88f959');\n",
              "          const dataTable =\n",
              "            await google.colab.kernel.invokeFunction('convertToInteractive',\n",
              "                                                     [key], {});\n",
              "          if (!dataTable) return;\n",
              "\n",
              "          const docLinkHtml = 'Like what you see? Visit the ' +\n",
              "            '<a target=\"_blank\" href=https://colab.research.google.com/notebooks/data_table.ipynb>data table notebook</a>'\n",
              "            + ' to learn more about interactive tables.';\n",
              "          element.innerHTML = '';\n",
              "          dataTable['output_type'] = 'display_data';\n",
              "          await google.colab.output.renderOutput(dataTable, element);\n",
              "          const docLink = document.createElement('div');\n",
              "          docLink.innerHTML = docLinkHtml;\n",
              "          element.appendChild(docLink);\n",
              "        }\n",
              "      </script>\n",
              "    </div>\n",
              "  </div>\n",
              "  "
            ]
          },
          "metadata": {},
          "execution_count": 168
        }
      ]
    },
    {
      "cell_type": "code",
      "source": [
        "\n",
        "g, (ax2) = plt.subplots(1,1, sharex=True, figsize=(12,6))\n",
        "\n",
        "ax2.set_title('Countplot Cooperation  Output by Participant´s gender', fontsize=14)\n",
        "\n",
        "#Subplot 2 - \n",
        "sns.countplot(ax=ax2, x='Pa_Action_Push_1_Pull_0', hue= 'Pa_Gender_F_1_M_0',\n",
        "              data = df, palette = 'PuRd') \n",
        "plt.xlabel('Participant Cooperation', fontsize=10)\n",
        "plt.ylabel('Count', fontsize=10)\n",
        "plt.xticks([0, 1], ['Defect', 'Cooperate'], fontsize=10)\n",
        "plt.legend([\"Male\", \"Female\"])"
      ],
      "metadata": {
        "colab": {
          "base_uri": "https://localhost:8080/",
          "height": 424
        },
        "id": "E-iraAm5f7SD",
        "outputId": "289e62d6-2369-47f5-85f1-faf6eea60695"
      },
      "id": "E-iraAm5f7SD",
      "execution_count": 179,
      "outputs": [
        {
          "output_type": "execute_result",
          "data": {
            "text/plain": [
              "<matplotlib.legend.Legend at 0x7fb4555c2d30>"
            ]
          },
          "metadata": {},
          "execution_count": 179
        },
        {
          "output_type": "display_data",
          "data": {
            "text/plain": [
              "<Figure size 864x432 with 1 Axes>"
            ],
            "image/png": "[encoded data removed]"
          },
          "metadata": {
            "needs_background": "light"
          }
        }
      ]
    },
    {
      "cell_type": "markdown",
      "source": [
        "En general, ambos géneros tienden a no cooperar, sin embargo, los hombres se muestran menos cooperativos que las mujeres."
      ],
      "metadata": {
        "id": "_NZmiUjSoXCD"
      },
      "id": "_NZmiUjSoXCD"
    },
    {
      "cell_type": "markdown",
      "source": [
        "###Relación entre edad y cooperación\n",
        "A continuación se muestra como varía la cooperación respecto a la edad de los participantes."
      ],
      "metadata": {
        "id": "-6q9kgVCK4_e"
      },
      "id": "-6q9kgVCK4_e"
    },
    {
      "cell_type": "code",
      "source": [
        "coop_count = df['Pa_Action_Push_1_Pull_0'].value_counts()\n",
        "print(\"Total Defection \" + str(coop_count[0]))\n",
        "print(\"Total Cooperation \" + str(coop_count[1]))\n",
        "\n",
        "#How cooperative are civilians with Guerrilla? \n",
        "crosstab = pd.crosstab(df[\"Pa_Age\"], df[\"Pa_Action_Push_1_Pull_0\"])\n",
        "crosstab"
      ],
      "metadata": {
        "colab": {
          "base_uri": "https://localhost:8080/",
          "height": 336
        },
        "id": "6YCwLEmheNgY",
        "outputId": "15631004-96e2-4f12-c80e-8903b7d8ded7"
      },
      "id": "6YCwLEmheNgY",
      "execution_count": 169,
      "outputs": [
        {
          "output_type": "stream",
          "name": "stdout",
          "text": [
            "Total Defection 12840\n",
            "Total Cooperation 5359\n"
          ]
        },
        {
          "output_type": "execute_result",
          "data": {
            "text/plain": [
              "Pa_Action_Push_1_Pull_0     0     1\n",
              "Pa_Age                             \n",
              "12                        854   246\n",
              "13                       3232   868\n",
              "14                       2537   962\n",
              "15                       2712  1288\n",
              "16                       2558  1242\n",
              "17                        574   526\n",
              "18                        373   227"
            ],
            "text/html": [
              "\n",
              "  <div id=\"df-19a16f37-1ac3-4122-a875-f0857ae3cd9f\">\n",
              "    <div class=\"colab-df-container\">\n",
              "      <div>\n",
              "<style scoped>\n",
              "    .dataframe tbody tr th:only-of-type {\n",
              "        vertical-align: middle;\n",
              "    }\n",
              "\n",
              "    .dataframe tbody tr th {\n",
              "        vertical-align: top;\n",
              "    }\n",
              "\n",
              "    .dataframe thead th {\n",
              "        text-align: right;\n",
              "    }\n",
              "</style>\n",
              "<table border=\"1\" class=\"dataframe\">\n",
              "  <thead>\n",
              "    <tr style=\"text-align: right;\">\n",
              "      <th>Pa_Action_Push_1_Pull_0</th>\n",
              "      <th>0</th>\n",
              "      <th>1</th>\n",
              "    </tr>\n",
              "    <tr>\n",
              "      <th>Pa_Age</th>\n",
              "      <th></th>\n",
              "      <th></th>\n",
              "    </tr>\n",
              "  </thead>\n",
              "  <tbody>\n",
              "    <tr>\n",
              "      <th>12</th>\n",
              "      <td>854</td>\n",
              "      <td>246</td>\n",
              "    </tr>\n",
              "    <tr>\n",
              "      <th>13</th>\n",
              "      <td>3232</td>\n",
              "      <td>868</td>\n",
              "    </tr>\n",
              "    <tr>\n",
              "      <th>14</th>\n",
              "      <td>2537</td>\n",
              "      <td>962</td>\n",
              "    </tr>\n",
              "    <tr>\n",
              "      <th>15</th>\n",
              "      <td>2712</td>\n",
              "      <td>1288</td>\n",
              "    </tr>\n",
              "    <tr>\n",
              "      <th>16</th>\n",
              "      <td>2558</td>\n",
              "      <td>1242</td>\n",
              "    </tr>\n",
              "    <tr>\n",
              "      <th>17</th>\n",
              "      <td>574</td>\n",
              "      <td>526</td>\n",
              "    </tr>\n",
              "    <tr>\n",
              "      <th>18</th>\n",
              "      <td>373</td>\n",
              "      <td>227</td>\n",
              "    </tr>\n",
              "  </tbody>\n",
              "</table>\n",
              "</div>\n",
              "      <button class=\"colab-df-convert\" onclick=\"convertToInteractive('df-19a16f37-1ac3-4122-a875-f0857ae3cd9f')\"\n",
              "              title=\"Convert this dataframe to an interactive table.\"\n",
              "              style=\"display:none;\">\n",
              "        \n",
              "  <svg xmlns=\"http://www.w3.org/2000/svg\" height=\"24px\"viewBox=\"0 0 24 24\"\n",
              "       width=\"24px\">\n",
              "    <path d=\"M0 0h24v24H0V0z\" fill=\"none\"/>\n",
              "    <path d=\"M18.56 5.44l.94 2.06.94-2.06 2.06-.94-2.06-.94-.94-2.06-.94 2.06-2.06.94zm-11 1L8.5 8.5l.94-2.06 2.06-.94-2.06-.94L8.5 2.5l-.94 2.06-2.06.94zm10 10l.94 2.06.94-2.06 2.06-.94-2.06-.94-.94-2.06-.94 2.06-2.06.94z\"/><path d=\"M17.41 7.96l-1.37-1.37c-.4-.4-.92-.59-1.43-.59-.52 0-1.04.2-1.43.59L10.3 9.45l-7.72 7.72c-.78.78-.78 2.05 0 2.83L4 21.41c.39.39.9.59 1.41.59.51 0 1.02-.2 1.41-.59l7.78-7.78 2.81-2.81c.8-.78.8-2.07 0-2.86zM5.41 20L4 18.59l7.72-7.72 1.47 1.35L5.41 20z\"/>\n",
              "  </svg>\n",
              "      </button>\n",
              "      \n",
              "  <style>\n",
              "    .colab-df-container {\n",
              "      display:flex;\n",
              "      flex-wrap:wrap;\n",
              "      gap: 12px;\n",
              "    }\n",
              "\n",
              "    .colab-df-convert {\n",
              "      background-color: #E8F0FE;\n",
              "      border: none;\n",
              "      border-radius: 50%;\n",
              "      cursor: pointer;\n",
              "      display: none;\n",
              "      fill: #1967D2;\n",
              "      height: 32px;\n",
              "      padding: 0 0 0 0;\n",
              "      width: 32px;\n",
              "    }\n",
              "\n",
              "    .colab-df-convert:hover {\n",
              "      background-color: #E2EBFA;\n",
              "      box-shadow: 0px 1px 2px rgba(60, 64, 67, 0.3), 0px 1px 3px 1px rgba(60, 64, 67, 0.15);\n",
              "      fill: #174EA6;\n",
              "    }\n",
              "\n",
              "    [theme=dark] .colab-df-convert {\n",
              "      background-color: #3B4455;\n",
              "      fill: #D2E3FC;\n",
              "    }\n",
              "\n",
              "    [theme=dark] .colab-df-convert:hover {\n",
              "      background-color: #434B5C;\n",
              "      box-shadow: 0px 1px 3px 1px rgba(0, 0, 0, 0.15);\n",
              "      filter: drop-shadow(0px 1px 2px rgba(0, 0, 0, 0.3));\n",
              "      fill: #FFFFFF;\n",
              "    }\n",
              "  </style>\n",
              "\n",
              "      <script>\n",
              "        const buttonEl =\n",
              "          document.querySelector('#df-19a16f37-1ac3-4122-a875-f0857ae3cd9f button.colab-df-convert');\n",
              "        buttonEl.style.display =\n",
              "          google.colab.kernel.accessAllowed ? 'block' : 'none';\n",
              "\n",
              "        async function convertToInteractive(key) {\n",
              "          const element = document.querySelector('#df-19a16f37-1ac3-4122-a875-f0857ae3cd9f');\n",
              "          const dataTable =\n",
              "            await google.colab.kernel.invokeFunction('convertToInteractive',\n",
              "                                                     [key], {});\n",
              "          if (!dataTable) return;\n",
              "\n",
              "          const docLinkHtml = 'Like what you see? Visit the ' +\n",
              "            '<a target=\"_blank\" href=https://colab.research.google.com/notebooks/data_table.ipynb>data table notebook</a>'\n",
              "            + ' to learn more about interactive tables.';\n",
              "          element.innerHTML = '';\n",
              "          dataTable['output_type'] = 'display_data';\n",
              "          await google.colab.output.renderOutput(dataTable, element);\n",
              "          const docLink = document.createElement('div');\n",
              "          docLink.innerHTML = docLinkHtml;\n",
              "          element.appendChild(docLink);\n",
              "        }\n",
              "      </script>\n",
              "    </div>\n",
              "  </div>\n",
              "  "
            ]
          },
          "metadata": {},
          "execution_count": 169
        }
      ]
    },
    {
      "cell_type": "code",
      "source": [
        "\n",
        "g, (ax2) = plt.subplots(1,1, sharex=True, figsize=(12,6))\n",
        "\n",
        "ax2.set_title('Countplot Cooperation  Output by Participant´s Age', fontsize=14)\n",
        "\n",
        "#Subplot 2 - \n",
        "sns.countplot(ax=ax2, x='Pa_Age', hue= 'Pa_Action_Push_1_Pull_0',\n",
        "              data = df, palette = 'PuRd') \n",
        "plt.xlabel('Participant Age', fontsize=10)\n",
        "plt.ylabel('Cooperation count', fontsize=10)\n",
        "plt.legend([\"Defect\", \"Cooperate\"])"
      ],
      "metadata": {
        "colab": {
          "base_uri": "https://localhost:8080/",
          "height": 424
        },
        "id": "4MZss1YLhY-P",
        "outputId": "8e2de88b-9e27-4f81-fa1f-5cafbaff8fe4"
      },
      "id": "4MZss1YLhY-P",
      "execution_count": 183,
      "outputs": [
        {
          "output_type": "execute_result",
          "data": {
            "text/plain": [
              "<matplotlib.legend.Legend at 0x7fb4554453d0>"
            ]
          },
          "metadata": {},
          "execution_count": 183
        },
        {
          "output_type": "display_data",
          "data": {
            "text/plain": [
              "<Figure size 864x432 with 1 Axes>"
            ],
            "image/png": "[encoded data removed]"
          },
          "metadata": {
            "needs_background": "light"
          }
        }
      ]
    },
    {
      "cell_type": "markdown",
      "source": [
        "A los 12, 17 y 18 años hay una cooperación más balanceada respecto a la no cooperación, por otro lado, en el resto de las edades la no cooperación es mucho mayor."
      ],
      "metadata": {
        "id": "kcRciotfsand"
      },
      "id": "kcRciotfsand"
    },
    {
      "cell_type": "markdown",
      "source": [
        "###Comparación del modelo con la realidad\n",
        "Se hará una comparativa de las estadísticas de cooperación ofrecidas por el modelo de *Random Forest* con los datos capturados origianlmente"
      ],
      "metadata": {
        "id": "gQwcTW63LOgd"
      },
      "id": "gQwcTW63LOgd"
    },
    {
      "cell_type": "code",
      "source": [
        "y_preds = rf.predict(x_test_prep)\n",
        "type(y_preds)\n"
      ],
      "metadata": {
        "colab": {
          "base_uri": "https://localhost:8080/"
        },
        "id": "oaKGF3c0s1wI",
        "outputId": "09d0215e-4ecf-45b0-cc5f-fe0d54c1f507"
      },
      "id": "oaKGF3c0s1wI",
      "execution_count": 188,
      "outputs": [
        {
          "output_type": "execute_result",
          "data": {
            "text/plain": [
              "numpy.ndarray"
            ]
          },
          "metadata": {},
          "execution_count": 188
        }
      ]
    },
    {
      "cell_type": "code",
      "source": [
        "\n",
        "g, (ax1, ax2) = plt.subplots(1, 2, sharex=True, figsize=(12,6))\n",
        "\n",
        "ax1.set_title('Caught cooperation (test set)', fontsize=14)\n",
        "ax2.set_title('Predicted cooperation (test set)', fontsize=14)\n",
        "\n",
        "sns.countplot(ax=ax1, x=y_test.values, palette = 'PuRd') \n",
        "plt.xlabel('Participant Cooperation', fontsize=12)\n",
        "plt.ylabel('Count', fontsize=10)\n",
        "plt.xticks([0, 1], ['Defect', 'Cooperate'], fontsize=10)\n",
        "\n",
        "sns.countplot(ax=ax2, x=y_preds, palette = 'PuRd') \n",
        "plt.xlabel('Participant Cooperation', fontsize=12)\n",
        "plt.ylabel('Count', fontsize=10)\n",
        "plt.xticks([0, 1], ['Defect', 'Cooperate'], fontsize=10)\n"
      ],
      "metadata": {
        "colab": {
          "base_uri": "https://localhost:8080/",
          "height": 462
        },
        "id": "dxWbl_Gxt0ew",
        "outputId": "97caa1ca-0c09-473f-902d-fbe708803bed"
      },
      "id": "dxWbl_Gxt0ew",
      "execution_count": 189,
      "outputs": [
        {
          "output_type": "execute_result",
          "data": {
            "text/plain": [
              "([<matplotlib.axis.XTick at 0x7fb45531b430>,\n",
              "  <matplotlib.axis.XTick at 0x7fb45531b070>],\n",
              " [Text(0, 0, 'Defect'), Text(0, 0, 'Cooperate')])"
            ]
          },
          "metadata": {},
          "execution_count": 189
        },
        {
          "output_type": "display_data",
          "data": {
            "text/plain": [
              "<Figure size 864x432 with 2 Axes>"
            ],
            "image/png": "[encoded data removed]"
          },
          "metadata": {
            "needs_background": "light"
          }
        }
      ]
    },
    {
      "cell_type": "code",
      "source": [
        "print(pd.DataFrame(y_test).value_counts())\n",
        "print(pd.DataFrame(y_preds).value_counts())"
      ],
      "metadata": {
        "colab": {
          "base_uri": "https://localhost:8080/"
        },
        "id": "YsqH8BfpxaJU",
        "outputId": "689f7f21-298e-42dc-9b50-6067629fc1dc"
      },
      "id": "YsqH8BfpxaJU",
      "execution_count": 191,
      "outputs": [
        {
          "output_type": "stream",
          "name": "stdout",
          "text": [
            "Pa_Action_Push_1_Pull_0\n",
            "0                          4494\n",
            "1                          1876\n",
            "dtype: int64\n",
            "0    5759\n",
            "1     611\n",
            "dtype: int64\n"
          ]
        }
      ]
    },
    {
      "cell_type": "markdown",
      "source": [
        "El modelo es más pesimista sobre la cooperación, prediciendo que es una pequeña parte de los participantes la que tomará la decisión de cooperar.\n",
        "\n",
        "|Fuente|No Cooperación | Cooperación |\n",
        "|------|---------------|-------------|\n",
        "|Datos |4494           |1876         |\n",
        "|Modelo|5759           |611          |"
      ],
      "metadata": {
        "id": "iTzsOfLTyMWx"
      },
      "id": "iTzsOfLTyMWx"
    }
  ],
  "metadata": {
    "kernelspec": {
      "display_name": "Python 3 (ipykernel)",
      "language": "python",
      "name": "python3"
    },
    "language_info": {
      "codemirror_mode": {
        "name": "ipython",
        "version": 3
      },
      "file_extension": ".py",
      "mimetype": "text/x-python",
      "name": "python",
      "nbconvert_exporter": "python",
      "pygments_lexer": "ipython3",
      "version": "3.9.12"
    },
    "colab": {
      "provenance": [],
      "collapsed_sections": [
        "BxsniJqJROOZ",
        "ZoSs9vBoUTvW"
      ],
      "include_colab_link": true
    }
  },
  "nbformat": 4,
  "nbformat_minor": 5
}